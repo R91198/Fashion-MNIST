{
 "cells": [
  {
   "cell_type": "code",
   "execution_count": 1,
   "metadata": {},
   "outputs": [
    {
     "name": "stdout",
     "output_type": "stream",
     "text": [
      "2.2.0\n"
     ]
    },
    {
     "name": "stderr",
     "output_type": "stream",
     "text": [
      "Using TensorFlow backend.\n"
     ]
    }
   ],
   "source": [
    "# Start with our import of Tensorflow\n",
    "import tensorflow as tf\n",
    "import keras \n",
    "print(tf.__version__)"
   ]
  },
  {
   "cell_type": "code",
   "execution_count": 2,
   "metadata": {},
   "outputs": [],
   "source": [
    "# The Fashion MNIST dataset is available directly in the tf.keras datasets API.\n",
    "# Load it like this:-\n",
    "fashion_mnist = tf.keras.datasets.fashion_mnist"
   ]
  },
  {
   "cell_type": "code",
   "execution_count": 3,
   "metadata": {},
   "outputs": [],
   "source": [
    "# Calling load_data() on this object will give us two sets of two lists, these will be training and testing values\n",
    "# for the graphics that contains the handwritten digits and their labels.\n",
    "\n",
    "(train_images,train_labels), (test_images,test_labels) = fashion_mnist.load_data()"
   ]
  },
  {
   "cell_type": "code",
   "execution_count": 4,
   "metadata": {},
   "outputs": [
    {
     "name": "stdout",
     "output_type": "stream",
     "text": [
      "7\n",
      "[[  0   0   0   0   0   0   0   0   0   0   0   0   0   0   0   0   0   0\n",
      "    0   0   0   0   0   0   0   0   0   0]\n",
      " [  0   0   0   0   0   0   0   0   0   0   0   0   0   0   0   0   0   0\n",
      "    0   0   0   0   0   0   0   0   0   0]\n",
      " [  0   0   0   0   0   0   0   0   0   0   0   0   0   0   0   0   0   0\n",
      "    0   0   0   0   0   0   0   0   0   0]\n",
      " [  0   0   0   0   0   0   0   0   0   0   0   0   0   0   0   0   0   0\n",
      "    0   0   0   0   0   0   0   0   0   0]\n",
      " [  0   0   0   0   0   0   0   0   0   0   0   0   0   0   0   0   0   0\n",
      "    0   0   0   0   0   0   0   0   0   0]\n",
      " [  0   0   0   0   0   0   0   0   0   0   0   0   0   0   0   0   0   0\n",
      "    0   0   0   0   0   0   0   0   0   0]\n",
      " [  0   0   0   0   0   0   0   0   0   0   0   0   0   0   0   0   0   0\n",
      "    0   0   0   0   0   0   0   0   0   0]\n",
      " [  0   0   0   0   0   0   0   0   0   0   0   0   0   0   0   0   0   0\n",
      "    0   0   0   0   0   0   0   0   0   0]\n",
      " [  0   0   0   0   0   0   0   0   2   0   2   1   0   0   0  31  90   0\n",
      "    0   0   1   0   0   0   0   0   0   0]\n",
      " [  0   0   0   0   0   0   0   0   0   2   0   0   0 128  82  61 210 126\n",
      "    0   0   0   0   1   0  37  42   3   0]\n",
      " [  0   0   0   0   0   0   0   0   0   0   2 115 165 163 194 177 154 163\n",
      "  170   0   0   0   0  37  79  55  36   0]\n",
      " [  0   0   0   0   0   0   0   0   0  57 172 172 170 178 161 177 191 190\n",
      "  206  86   0   0   0  37   0  12  41   0]\n",
      " [  1   0   0   2   4   0   0   0 106 177 145 162 131 170 221 228 206 225\n",
      "  200 195 175 133 127 115  22  93 193   0]\n",
      " [  1   1   0   0   0   0   0  83 154 160 173 171 222 238 212 162 139 127\n",
      "  135 149 180 208 206 203 196 197 213  36]\n",
      " [  0   0   0   0  26  66 152 170 172 184 200 209 186 155 158 171 195 201\n",
      "  173 150 157 143 145 179 212 214 225  43]\n",
      " [  0  78 137 144 167 166 152 168 150 138 153 151 150 167 186 181 175 188\n",
      "  210 195 171 172 208 222 219 215 233  60]\n",
      " [ 58 149 137 136 115 122 145 151 147 153 153 168 171 174 164 175 194 185\n",
      "  188 186 152 196 228 223 224 232 237  63]\n",
      " [144 174 167 174 170 157 135 146 153 163 162 152 161 173 181 189 201 217\n",
      "  227 193 213 255 236 229 217 211 197   0]\n",
      " [ 73 163 122 151 185 214 221 225 228 227 225 225 227 231 232 231 203 172\n",
      "  158 128 107 104  78  46  25   2  22   0]\n",
      " [  0  99 148  89  64  53  53  71  93  95  95  95  82  64  43  24  20  18\n",
      "   25  26  31  40  45  66  88 105 148  86]\n",
      " [  0   0   0  70 101 131 130 109  91  91 107 112 107 119 110 100 104 111\n",
      "  106  99  88  83  82  80  77  59   6   0]\n",
      " [  0   0   0   0   0   0   0   0   0   0   0   0   0   0   0   0   0   0\n",
      "    0   0   0   0   0   0   0   0   0   0]\n",
      " [  0   0   0   0   0   0   0   0   0   0   0   0   0   0   0   0   0   0\n",
      "    0   0   0   0   0   0   0   0   0   0]\n",
      " [  0   0   0   0   0   0   0   0   0   0   0   0   0   0   0   0   0   0\n",
      "    0   0   0   0   0   0   0   0   0   0]\n",
      " [  0   0   0   0   0   0   0   0   0   0   0   0   0   0   0   0   0   0\n",
      "    0   0   0   0   0   0   0   0   0   0]\n",
      " [  0   0   0   0   0   0   0   0   0   0   0   0   0   0   0   0   0   0\n",
      "    0   0   0   0   0   0   0   0   0   0]\n",
      " [  0   0   0   0   0   0   0   0   0   0   0   0   0   0   0   0   0   0\n",
      "    0   0   0   0   0   0   0   0   0   0]\n",
      " [  0   0   0   0   0   0   0   0   0   0   0   0   0   0   0   0   0   0\n",
      "    0   0   0   0   0   0   0   0   0   0]]\n"
     ]
    },
    {
     "data": {
      "image/png": "[encoded data removed]",
      "text/plain": [
       "<Figure size 432x288 with 1 Axes>"
      ]
     },
     "metadata": {
      "needs_background": "light"
     },
     "output_type": "display_data"
    }
   ],
   "source": [
    "# Let's see how does these values look like ?\n",
    "# We can also experiment and see different images in the array. Try out yourself... \n",
    "import matplotlib.pyplot as plt\n",
    "plt.imshow(train_images[52])\n",
    "print(train_labels[52])\n",
    "print(train_images[52])"
   ]
  },
  {
   "cell_type": "code",
   "execution_count": 5,
   "metadata": {},
   "outputs": [],
   "source": [
    "# You'll notice that all the values are between 0 and 255. If we are training a neural network, for various reasons\n",
    "# it's easier if we treat all the values between 0 and 1 (a process called normalization), so we'll do exactly the same\n",
    "\n",
    "train_images = train_images / 255.0\n",
    "test_images = test_images / 255.0"
   ]
  },
  {
   "cell_type": "code",
   "execution_count": 6,
   "metadata": {},
   "outputs": [],
   "source": [
    "# Let's now design the model\n",
    "\n",
    "model = tf.keras.models.Sequential([tf.keras.layers.Flatten(),\n",
    "                                tf.keras.layers.Dense(128, activation = tf.nn.relu),\n",
    "                                   tf.keras.layers.Dense(10, activation = tf.nn.softmax)])"
   ]
  },
  {
   "cell_type": "code",
   "execution_count": 7,
   "metadata": {},
   "outputs": [
    {
     "name": "stdout",
     "output_type": "stream",
     "text": [
      "Epoch 1/20\n",
      "1875/1875 [==============================] - 2s 838us/step - loss: 0.5004\n",
      "Epoch 2/20\n",
      "1875/1875 [==============================] - 2s 842us/step - loss: 0.3793\n",
      "Epoch 3/20\n",
      "1875/1875 [==============================] - 2s 839us/step - loss: 0.3383\n",
      "Epoch 4/20\n",
      "1875/1875 [==============================] - 1s 794us/step - loss: 0.3133\n",
      "Epoch 5/20\n",
      "1875/1875 [==============================] - 1s 775us/step - loss: 0.2976\n",
      "Epoch 6/20\n",
      "1875/1875 [==============================] - 1s 778us/step - loss: 0.2823\n",
      "Epoch 7/20\n",
      "1875/1875 [==============================] - 1s 779us/step - loss: 0.2697\n",
      "Epoch 8/20\n",
      "1875/1875 [==============================] - 1s 779us/step - loss: 0.2594\n",
      "Epoch 9/20\n",
      "1875/1875 [==============================] - 1s 779us/step - loss: 0.2511\n",
      "Epoch 10/20\n",
      "1875/1875 [==============================] - 2s 816us/step - loss: 0.2423\n",
      "Epoch 11/20\n",
      "1875/1875 [==============================] - 1s 785us/step - loss: 0.2339\n",
      "Epoch 12/20\n",
      "1875/1875 [==============================] - 1s 777us/step - loss: 0.2250\n",
      "Epoch 13/20\n",
      "1875/1875 [==============================] - 1s 778us/step - loss: 0.2185\n",
      "Epoch 14/20\n",
      "1875/1875 [==============================] - 1s 782us/step - loss: 0.2123\n",
      "Epoch 15/20\n",
      "1875/1875 [==============================] - 2s 821us/step - loss: 0.2077\n",
      "Epoch 16/20\n",
      "1875/1875 [==============================] - 1s 769us/step - loss: 0.2013\n",
      "Epoch 17/20\n",
      "1875/1875 [==============================] - 1s 775us/step - loss: 0.1961\n",
      "Epoch 18/20\n",
      "1875/1875 [==============================] - 2s 800us/step - loss: 0.1911\n",
      "Epoch 19/20\n",
      "1875/1875 [==============================] - 2s 837us/step - loss: 0.1862\n",
      "Epoch 20/20\n",
      "1875/1875 [==============================] - 2s 859us/step - loss: 0.1839\n"
     ]
    },
    {
     "data": {
      "text/plain": [
       "<tensorflow.python.keras.callbacks.History at 0x7fcff700c2e0>"
      ]
     },
     "execution_count": 7,
     "metadata": {},
     "output_type": "execute_result"
    }
   ],
   "source": [
    "# Now, we have to simply build the model. This is done by compiling it with an optimizer and a loss function\n",
    "# and then we train it by calling 'model.fit()' asking it to fit our training data to our training labels\n",
    "# This will take around a few seconds depending upon the number of epochs you're taking.\n",
    "model.compile(optimizer = 'adam', loss = 'sparse_categorical_crossentropy')\n",
    "model.fit(x = train_images, y = train_labels, epochs = 20)"
   ]
  },
  {
   "cell_type": "markdown",
   "metadata": {},
   "source": [
    "#### Once it's done, we see that our neural network gives a loss of about '0.2'. This tells us that the network gives an accuracy of about 80%. Not great but nor Bad considering the network was only trained for 10 epochs and done quite quickly."
   ]
  },
  {
   "cell_type": "markdown",
   "metadata": {},
   "source": [
    "#### But, how would it work with an unseen data ? Let's find out !!!"
   ]
  },
  {
   "cell_type": "code",
   "execution_count": 8,
   "metadata": {},
   "outputs": [
    {
     "name": "stdout",
     "output_type": "stream",
     "text": [
      "313/313 [==============================] - 0s 691us/step - loss: 0.3470\n"
     ]
    },
    {
     "data": {
      "text/plain": [
       "0.34697356820106506"
      ]
     },
     "execution_count": 8,
     "metadata": {},
     "output_type": "execute_result"
    }
   ],
   "source": [
    "model.evaluate(test_images,test_labels)"
   ]
  },
  {
   "cell_type": "markdown",
   "metadata": {},
   "source": [
    "#### As expected, the model gave an accuracy for about 66% i.e it didn't do well on the unseen data as it did on the training data. Now, try this out for yourself and see that by tweaking the parameters in the neural network or changing the number of epochs, if there's a way for you to get it above '66%' . Good luck with that, until next time... "
   ]
  },
  {
   "cell_type": "code",
   "execution_count": null,
   "metadata": {},
   "outputs": [],
   "source": []
  }
 ],
 "metadata": {
  "kernelspec": {
   "display_name": "Python 3",
   "language": "python",
   "name": "python3"
  },
  "language_info": {
   "codemirror_mode": {
    "name": "ipython",
    "version": 3
   },
   "file_extension": ".py",
   "mimetype": "text/x-python",
   "name": "python",
   "nbconvert_exporter": "python",
   "pygments_lexer": "ipython3",
   "version": "3.8.3"
  }
 },
 "nbformat": 4,
 "nbformat_minor": 4
}
